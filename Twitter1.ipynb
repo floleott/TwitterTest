{
 "cells": [
  {
   "cell_type": "code",
   "execution_count": 32,
   "metadata": {
    "collapsed": false
   },
   "outputs": [],
   "source": [
    "#load the credentials from a local file\n",
    "import json\n",
    "with open('credentials.json') as cr:\n",
    "    cred = json.load(cr)"
   ]
  },
  {
   "cell_type": "code",
   "execution_count": 34,
   "metadata": {
    "collapsed": false
   },
   "outputs": [],
   "source": [
    "#module for scraping tweets\n",
    "from twython import Twython\n",
    "\n",
    "#open twitter session for the app?\n",
    "twitter = Twython(cred['Consumer_Key'],cred['Consumer_Secret']) #Consumer Key and Secret"
   ]
  },
  {
   "cell_type": "code",
   "execution_count": 35,
   "metadata": {
    "collapsed": false
   },
   "outputs": [
    {
     "name": "stdout",
     "output_type": "stream",
     "text": [
      "ipfconline1 : RT @dataiku: What's the Difference Between Business Intelligence and #DataScience? https://t.co/3zxvP3elkS #BI | by @hugolsqrn https://t.co…\n",
      "gotoexpert : Enabling Data Science Agility with Docker - Going beyond a DevOps tool. https://t.co/2BOi3QC2Ie https://t.co/jaR9CDtz6b\n",
      "peralesroger : Data Science Using Docker Containers - It's been few months since I started using docker containers for my data... https://t.co/KNSnh5eXqg\n",
      "janemetcalfe : RT @HealthStandards: Great post! Medicine is about to become data science supported by clinicians  – by @healthiscool\n",
      "https://t.co/w4DxjZtT…\n",
      "alevergara78 : RT @KirkDBorne: Reasons to hire a Director of #DataScience before hiring your first #DataScientist: https://t.co/Xnruqdt1fT #abdsc #BigData…\n",
      "tahaamin : RT @KirkDBorne: Reasons to hire a Director of #DataScience before hiring your first #DataScientist: https://t.co/Xnruqdt1fT #abdsc #BigData…\n",
      "Brandon_Reaburn : RT @7Eleven_Careers: If you are an expert in digital product management, data science and data analytics, apply today! https://t.co/etzae2P…\n",
      "mannitan : RT @WorldOfDataSci: 2016 Most Popular: #DataScience and #MachineLearning Articles https://t.co/27q3L26v7K\n",
      "alevergara78 : RT @WorldOfDataSci: 2016 Most Popular: #DataScience and #MachineLearning Articles https://t.co/27q3L26v7K\n",
      "RJobListings : Director Data Science PCCI - Parkland Hospital - Dallas, TX | https://t.co/0rPjIFoLGX\n",
      "tmj_sea_itjava : If you're looking for work in #Bellevue, WA, check out this #job: https://t.co/rXEbsCLqt7 #OpenSource #Hiring #CareerArc\n",
      "WorldOfDataSci : 2016 Most Popular: #DataScience and #MachineLearning Articles https://t.co/27q3L26v7K\n",
      "ITCrowdsource : RT @DeepLearn007: #Analytics, #ML + #DataScience Help #FinTech Offer Better Services \n",
      "#bigdata #machinelearning #data #banking #tech https:…\n",
      "alevergara78 : RT @DeepLearn007: #Analytics, #ML + #DataScience Help #FinTech Offer Better Services \n",
      "#bigdata #machinelearning #data #banking #tech https:…\n",
      "mannitan : RT @DeepLearn007: #Analytics, #ML + #DataScience Help #FinTech Offer Better Services \n",
      "#bigdata #machinelearning #data #banking #tech https:…\n"
     ]
    }
   ],
   "source": [
    "#twitter.search provides a limited list of search results\n",
    "for status in twitter.search(q='\"data science\"')[\"statuses\"]:\n",
    "    user=status[\"user\"][\"screen_name\"].encode('utf-8')\n",
    "    text=status[\"text\"].encode('utf-8')\n",
    "    print user, \":\", text"
   ]
  },
  {
   "cell_type": "code",
   "execution_count": 12,
   "metadata": {
    "collapsed": false
   },
   "outputs": [
    {
     "name": "stdout",
     "output_type": "stream",
     "text": [
      "Twitter1.ipynb     credentials.json   credentials.json~\r\n"
     ]
    }
   ],
   "source": [
    "ls"
   ]
  },
  {
   "cell_type": "code",
   "execution_count": null,
   "metadata": {
    "collapsed": true
   },
   "outputs": [],
   "source": []
  }
 ],
 "metadata": {
  "kernelspec": {
   "display_name": "Python 2",
   "language": "python",
   "name": "python2"
  },
  "language_info": {
   "codemirror_mode": {
    "name": "ipython",
    "version": 2
   },
   "file_extension": ".py",
   "mimetype": "text/x-python",
   "name": "python",
   "nbconvert_exporter": "python",
   "pygments_lexer": "ipython2",
   "version": "2.7.13"
  }
 },
 "nbformat": 4,
 "nbformat_minor": 0
}
